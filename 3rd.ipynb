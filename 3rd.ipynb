{
 "cells": [
  {
   "cell_type": "code",
   "execution_count": 1,
   "id": "e917ac33-4191-4dd0-b81c-d41056af7a91",
   "metadata": {},
   "outputs": [
    {
     "name": "stdin",
     "output_type": "stream",
     "text": [
      "Enter Number: 5\n"
     ]
    },
    {
     "name": "stdout",
     "output_type": "stream",
     "text": [
      "Odd\n"
     ]
    }
   ],
   "source": [
    "a=int(input(\"Enter Number:\"))\n",
    "if(a%2==0):\n",
    "    print(\"Even\")\n",
    "else:\n",
    "    print(\"Odd\")"
   ]
  },
  {
   "cell_type": "code",
   "execution_count": 19,
   "id": "7e36a608-9a99-4b34-b1fa-49ef21f42307",
   "metadata": {},
   "outputs": [
    {
     "name": "stdin",
     "output_type": "stream",
     "text": [
      "Enter Number: 4\n"
     ]
    },
    {
     "name": "stdout",
     "output_type": "stream",
     "text": [
      "1/2: 0.5\n",
      "1/3: 0.3333333333333333\n",
      "1/4: 0.25\n"
     ]
    }
   ],
   "source": [
    "a=int(input(\"Enter Number:\"))\n",
    "c=1\n",
    "for b in range(2,a+1):\n",
    "    print(f\"{c}/{b}:\",c/b)"
   ]
  },
  {
   "cell_type": "code",
   "execution_count": null,
   "id": "e486cfa8-2e8a-4fc5-80bf-fbd0095ef40b",
   "metadata": {},
   "outputs": [],
   "source": []
  }
 ],
 "metadata": {
  "kernelspec": {
   "display_name": "Python [conda env:base] *",
   "language": "python",
   "name": "conda-base-py"
  },
  "language_info": {
   "codemirror_mode": {
    "name": "ipython",
    "version": 3
   },
   "file_extension": ".py",
   "mimetype": "text/x-python",
   "name": "python",
   "nbconvert_exporter": "python",
   "pygments_lexer": "ipython3",
   "version": "3.12.7"
  }
 },
 "nbformat": 4,
 "nbformat_minor": 5
}
